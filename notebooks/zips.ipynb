{
 "cells": [
  {
   "cell_type": "markdown",
   "id": "distinguished-student",
   "metadata": {},
   "source": [
    "# Find my zipcodes"
   ]
  },
  {
   "cell_type": "code",
   "execution_count": 49,
   "id": "injured-program",
   "metadata": {},
   "outputs": [],
   "source": [
    "import pandas as pd\n",
    "import numpy as np\n",
    "import matplotlib.pyplot as plt\n",
    "import seaborn as sns\n",
    "import statsmodels.formula.api as smf\n",
    "\n",
    "df = pd.read_csv('../data/King_County_House_prices_dataset.csv')"
   ]
  },
  {
   "cell_type": "code",
   "execution_count": 86,
   "id": "choice-cradle",
   "metadata": {},
   "outputs": [],
   "source": [
    "#getting all zipcodes\n",
    "zips = df.zipcode.unique().astype(int)\n",
    "zips\n",
    "#seattle center zips\n",
    "c_zips = [98101, 98102, 98103, 98104, 98105, 98106, 98107, 98108, 98109, 98112, 98115, 98116, 98117, 98118, 98119, 98121, 98122, 98125, 98126, 98133, 98134, 98136, 98144, 98146, 98154, 98164, 98174, 98177, 98178, 98195, 98199]"
   ]
  },
  {
   "cell_type": "code",
   "execution_count": 76,
   "id": "acceptable-location",
   "metadata": {},
   "outputs": [
    {
     "name": "stdout",
     "output_type": "stream",
     "text": [
      "<class 'pandas.core.frame.DataFrame'>\n",
      "RangeIndex: 565 entries, 0 to 564\n",
      "Data columns (total 2 columns):\n",
      " #   Column      Non-Null Count  Dtype \n",
      "---  ------      --------------  ----- \n",
      " 0   zipcode     565 non-null    string\n",
      " 1   population  565 non-null    string\n",
      "dtypes: string(2)\n",
      "memory usage: 9.0 KB\n"
     ]
    }
   ],
   "source": [
    "#getting the data for population per zip\n",
    "#force string to prevent turning high numbers to float\n",
    "pop_df = pd.read_csv('../data/population_by_zip.csv', dtype='string')\n",
    "pop_df.drop('rank', inplace=True, axis=1)\n",
    "#removing '.' from high numbers\n",
    "pop_df.population = pop_df.population.str.replace('.','', regex=False)\n",
    "pop_df.info()"
   ]
  },
  {
   "cell_type": "code",
   "execution_count": 77,
   "id": "decimal-phoenix",
   "metadata": {},
   "outputs": [],
   "source": [
    "#turning obects into numerics\n",
    "#getting all rows that can't be converted\n",
    "non_ints = pop_df[['zipcode', 'population']][pop_df['zipcode'].str.isnumeric() == False]\n",
    "pop_df= pop_df[['zipcode', 'population']][pop_df['zipcode'].str.isnumeric()]"
   ]
  },
  {
   "cell_type": "code",
   "execution_count": 78,
   "id": "sapphire-extraction",
   "metadata": {},
   "outputs": [
    {
     "name": "stdout",
     "output_type": "stream",
     "text": [
      "<class 'pandas.core.frame.DataFrame'>\n",
      "Int64Index: 16 entries, 95 to 561\n",
      "Data columns (total 2 columns):\n",
      " #   Column      Non-Null Count  Dtype \n",
      "---  ------      --------------  ----- \n",
      " 0   zipcode     16 non-null     string\n",
      " 1   population  16 non-null     string\n",
      "dtypes: string(2)\n",
      "memory usage: 384.0 bytes\n"
     ]
    },
    {
     "data": {
      "text/html": [
       "<div>\n",
       "<style scoped>\n",
       "    .dataframe tbody tr th:only-of-type {\n",
       "        vertical-align: middle;\n",
       "    }\n",
       "\n",
       "    .dataframe tbody tr th {\n",
       "        vertical-align: top;\n",
       "    }\n",
       "\n",
       "    .dataframe thead th {\n",
       "        text-align: right;\n",
       "    }\n",
       "</style>\n",
       "<table border=\"1\" class=\"dataframe\">\n",
       "  <thead>\n",
       "    <tr style=\"text-align: right;\">\n",
       "      <th></th>\n",
       "      <th>zipcode</th>\n",
       "      <th>population</th>\n",
       "    </tr>\n",
       "  </thead>\n",
       "  <tbody>\n",
       "    <tr>\n",
       "      <th>0</th>\n",
       "      <td>99301</td>\n",
       "      <td>79819</td>\n",
       "    </tr>\n",
       "    <tr>\n",
       "      <th>1</th>\n",
       "      <td>98052</td>\n",
       "      <td>70245</td>\n",
       "    </tr>\n",
       "    <tr>\n",
       "      <th>2</th>\n",
       "      <td>98012</td>\n",
       "      <td>67427</td>\n",
       "    </tr>\n",
       "    <tr>\n",
       "      <th>3</th>\n",
       "      <td>98682</td>\n",
       "      <td>60887</td>\n",
       "    </tr>\n",
       "    <tr>\n",
       "      <th>4</th>\n",
       "      <td>98208</td>\n",
       "      <td>58162</td>\n",
       "    </tr>\n",
       "  </tbody>\n",
       "</table>\n",
       "</div>"
      ],
      "text/plain": [
       "  zipcode population\n",
       "0   99301      79819\n",
       "1   98052      70245\n",
       "2   98012      67427\n",
       "3   98682      60887\n",
       "4   98208      58162"
      ]
     },
     "execution_count": 78,
     "metadata": {},
     "output_type": "execute_result"
    }
   ],
   "source": [
    "non_ints.info()\n",
    "pop_df.head()"
   ]
  },
  {
   "cell_type": "code",
   "execution_count": 79,
   "id": "fancy-alarm",
   "metadata": {},
   "outputs": [
    {
     "data": {
      "text/plain": [
       "array([['98685', '98201', '29792'],\n",
       "       ['98597', '98075', '23996'],\n",
       "       ['99003', '98237', '4410'],\n",
       "       ['98862', '98568', '2461'],\n",
       "       ['99110', '98592', '1839'],\n",
       "       ['99139', '99180', '1301'],\n",
       "       ['98836', '98933', '1051'],\n",
       "       ['98336', '98276', '727'],\n",
       "       ['98941', '98619', '539'],\n",
       "       ['99140', '98050', '432'],\n",
       "       ['98164', '98817', '177'],\n",
       "       ['98255', '98614', '164'],\n",
       "       ['98575', '98833', '139'],\n",
       "       ['98330', '99151', '102'],\n",
       "       ['98195', '98297', '48'],\n",
       "       ['99144', '98353', '18']], dtype='<U5')"
      ]
     },
     "execution_count": 79,
     "metadata": {},
     "output_type": "execute_result"
    }
   ],
   "source": [
    "#removing the 'and' from non_ints TODO: find cleaner solution\n",
    "non_ints = np.reshape([[x] for row in non_ints.values for x in (row[0].split('and')[0], row[0].split('and')[1], row[1])], (-1,3))\n",
    "non_ints"
   ]
  },
  {
   "cell_type": "code",
   "execution_count": 80,
   "id": "distributed-manhattan",
   "metadata": {},
   "outputs": [],
   "source": [
    "#feeding cleaned non_ints back to pop_df\n",
    "for row in non_ints:\n",
    "    new_rows = pd.DataFrame([[row[0], row[-1]], [row[1], row[-1]]], columns=['zipcode', 'population'])\n",
    "    pop_df = pop_df.append(new_rows, ignore_index=True)"
   ]
  },
  {
   "cell_type": "code",
   "execution_count": 82,
   "id": "progressive-alabama",
   "metadata": {},
   "outputs": [
    {
     "name": "stdout",
     "output_type": "stream",
     "text": [
      "<class 'pandas.core.frame.DataFrame'>\n",
      "RangeIndex: 581 entries, 0 to 580\n",
      "Data columns (total 2 columns):\n",
      " #   Column      Non-Null Count  Dtype\n",
      "---  ------      --------------  -----\n",
      " 0   zipcode     581 non-null    int64\n",
      " 1   population  581 non-null    int64\n",
      "dtypes: int64(2)\n",
      "memory usage: 9.2 KB\n"
     ]
    }
   ],
   "source": [
    "# getting avg population\n",
    "pop_df[['zipcode', 'population']] = pop_df[['zipcode', 'population']].astype(int)\n",
    "pop_df.info()"
   ]
  },
  {
   "cell_type": "code",
   "execution_count": 90,
   "id": "mobile-sister",
   "metadata": {},
   "outputs": [
    {
     "data": {
      "text/plain": [
       "30491.0"
      ]
     },
     "execution_count": 90,
     "metadata": {},
     "output_type": "execute_result"
    }
   ],
   "source": [
    "#removing all zips that are not in our seattle data set\n",
    "pop_df = pop_df[pop_df.zipcode.isin(zips)]\n",
    "pop_df\n",
    "avg_pop = pop_df.population.mean()\n",
    "avg_pop"
   ]
  },
  {
   "cell_type": "code",
   "execution_count": 93,
   "id": "focused-pillow",
   "metadata": {},
   "outputs": [
    {
     "name": "stdout",
     "output_type": "stream",
     "text": [
      "<class 'pandas.core.frame.DataFrame'>\n",
      "Int64Index: 23 entries, 6 to 177\n",
      "Data columns (total 2 columns):\n",
      " #   Column      Non-Null Count  Dtype\n",
      "---  ------      --------------  -----\n",
      " 0   zipcode     23 non-null     int64\n",
      " 1   population  23 non-null     int64\n",
      "dtypes: int64(2)\n",
      "memory usage: 552.0 bytes\n",
      "<class 'pandas.core.frame.DataFrame'>\n",
      "Int64Index: 14 entries, 91 to 177\n",
      "Data columns (total 2 columns):\n",
      " #   Column      Non-Null Count  Dtype\n",
      "---  ------      --------------  -----\n",
      " 0   zipcode     14 non-null     int64\n",
      " 1   population  14 non-null     int64\n",
      "dtypes: int64(2)\n",
      "memory usage: 336.0 bytes\n"
     ]
    }
   ],
   "source": [
    "#removing all zips from seattle center\n",
    "osk_df = pop_df[pop_df.zipcode.isin(c_zips)]\n",
    "osk_df.info()\n",
    "#removing zips with above avg population\n",
    "osk_df = osk_df[osk_df['population'] < avg_pop]\n",
    "osk_df.info()"
   ]
  },
  {
   "cell_type": "code",
   "execution_count": null,
   "id": "featured-photography",
   "metadata": {},
   "outputs": [],
   "source": []
  }
 ],
 "metadata": {
  "kernelspec": {
   "display_name": "Python 3",
   "language": "python",
   "name": "python3"
  },
  "language_info": {
   "codemirror_mode": {
    "name": "ipython",
    "version": 3
   },
   "file_extension": ".py",
   "mimetype": "text/x-python",
   "name": "python",
   "nbconvert_exporter": "python",
   "pygments_lexer": "ipython3",
   "version": "3.8.5"
  }
 },
 "nbformat": 4,
 "nbformat_minor": 5
}
